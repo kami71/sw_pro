{
 "cells": [
  {
   "cell_type": "code",
   "execution_count": 7,
   "metadata": {},
   "outputs": [
    {
     "name": "stdout",
     "output_type": "stream",
     "text": [
      "[[1000000000, 1000000000, 1000000000, 1000000000, 1000000000], [1000000000, 0, 1000000000, 1000000000, 1000000000], [1000000000, 1000000000, 0, 1000000000, 1000000000], [1000000000, 1000000000, 1000000000, 0, 1000000000], [1000000000, 1000000000, 1000000000, 1000000000, 0]]\n",
      "[[1000000000, 1000000000, 1000000000, 1000000000, 1000000000], [1000000000, 0, 4, 1000000000, 6], [1000000000, 3, 0, 7, 1000000000], [1000000000, 5, 1000000000, 0, 4], [1000000000, 1000000000, 1000000000, 2, 0]]\n",
      "[[1000000000, 1000000000, 1000000000, 1000000000, 1000000000], [1000000000, 0, 4, 1000000000, 6], [1000000000, 3, 0, 7, 9], [1000000000, 5, 9, 0, 4], [1000000000, 1000000000, 1000000000, 2, 0]]\n",
      "[[1000000000, 1000000000, 1000000000, 1000000000, 1000000000], [1000000000, 0, 4, 11, 6], [1000000000, 3, 0, 7, 9], [1000000000, 5, 9, 0, 4], [1000000000, 1000000000, 1000000000, 2, 0]]\n",
      "[[1000000000, 1000000000, 1000000000, 1000000000, 1000000000], [1000000000, 0, 4, 11, 6], [1000000000, 3, 0, 7, 9], [1000000000, 5, 9, 0, 4], [1000000000, 7, 11, 2, 0]]\n",
      "[[1000000000, 1000000000, 1000000000, 1000000000, 1000000000], [1000000000, 0, 4, 8, 6], [1000000000, 3, 0, 7, 9], [1000000000, 5, 9, 0, 4], [1000000000, 7, 11, 2, 0]]\n"
     ]
    }
   ],
   "source": [
    "INF = int(1e9)\n",
    "\n",
    "n = int(input())\n",
    "e = int(input())\n",
    "graph = [[INF] * (n+1) for _ in range(n+1)]\n",
    "\n",
    "for i in range(1, n+1):\n",
    "    for j in range(1, n+1):\n",
    "        if i==j:\n",
    "            graph[i][j] = 0\n",
    "\n",
    "for _ in range(e):\n",
    "    i, j, c = map(int, input().split())\n",
    "    graph[i][j] = c\n",
    "\n",
    "for k in range(1, n+1):\n",
    "    for a in range(1, n+1):\n",
    "        for b in range(1, n+1):\n",
    "            graph[a][b] = min(graph[a][b], graph[a][k]+graph[k][b])\n"
   ]
  },
  {
   "cell_type": "code",
   "execution_count": 8,
   "metadata": {},
   "outputs": [
    {
     "data": {
      "text/plain": [
       "[[1000000000, 1000000000, 1000000000, 1000000000, 1000000000],\n",
       " [1000000000, 0, 4, 8, 6],\n",
       " [1000000000, 3, 0, 7, 9],\n",
       " [1000000000, 5, 9, 0, 4],\n",
       " [1000000000, 7, 11, 2, 0]]"
      ]
     },
     "execution_count": 8,
     "metadata": {},
     "output_type": "execute_result"
    }
   ],
   "source": [
    "graph"
   ]
  },
  {
   "cell_type": "code",
   "execution_count": 10,
   "metadata": {},
   "outputs": [
    {
     "data": {
      "text/plain": [
       "'\\n4\\n7\\n1 2 4\\n1 4 6\\n2 1 3\\n2 3 7\\n3 1 5\\n3 4 4\\n4 3 2\\n'"
      ]
     },
     "execution_count": 10,
     "metadata": {},
     "output_type": "execute_result"
    }
   ],
   "source": [
    "# input\n",
    "'''\n",
    "4\n",
    "7\n",
    "1 2 4\n",
    "1 4 6\n",
    "2 1 3\n",
    "2 3 7\n",
    "3 1 5\n",
    "3 4 4\n",
    "4 3 2\n",
    "'''"
   ]
  },
  {
   "cell_type": "code",
   "execution_count": 14,
   "metadata": {},
   "outputs": [
    {
     "name": "stdout",
     "output_type": "stream",
     "text": [
      "3\n"
     ]
    }
   ],
   "source": [
    "# 문제1 미래도시\n",
    "\n",
    "INF = int(1e9)\n",
    "\n",
    "node, edge = map(int, input().split())\n",
    "graph = [[INF] * (node+1) for _ in range(node+1)]\n",
    "\n",
    "for i in range(1, node+1):\n",
    "    for j in range(1, node+1):\n",
    "        if i==j:\n",
    "            graph[i][j] = 0\n",
    "\n",
    "for i in range(edge):\n",
    "    a, b = map(int, input().split())\n",
    "    graph[a][b] = 1\n",
    "    graph[b][a] = 1\n",
    "\n",
    "for k in range(1, node+1):\n",
    "    for a in range(1, node+1):\n",
    "        for b in range(1, node+1):\n",
    "            graph[a][b] = min(graph[a][b], graph[a][k]+graph[k][b])\n",
    "\n",
    "x, k = map(int, input().split())\n",
    "print(graph[1][k]+graph[k][x])"
   ]
  },
  {
   "cell_type": "code",
   "execution_count": null,
   "metadata": {},
   "outputs": [],
   "source": []
  }
 ],
 "metadata": {
  "kernelspec": {
   "display_name": "Python 3",
   "language": "python",
   "name": "python3"
  },
  "language_info": {
   "codemirror_mode": {
    "name": "ipython",
    "version": 3
   },
   "file_extension": ".py",
   "mimetype": "text/x-python",
   "name": "python",
   "nbconvert_exporter": "python",
   "pygments_lexer": "ipython3",
   "version": "3.12.4"
  }
 },
 "nbformat": 4,
 "nbformat_minor": 2
}
