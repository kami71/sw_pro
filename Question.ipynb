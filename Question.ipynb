{
 "cells": [
  {
   "cell_type": "markdown",
   "metadata": {},
   "source": [
    "# 그리디"
   ]
  },
  {
   "cell_type": "code",
   "execution_count": 4,
   "metadata": {},
   "outputs": [
    {
     "name": "stdout",
     "output_type": "stream",
     "text": [
      "2\n"
     ]
    }
   ],
   "source": [
    "# 모험가 길드\n",
    "'''input\n",
    "5\n",
    "2 3 1 2 2\n",
    "'''\n",
    "n = int(input()) \n",
    "p = list(map(int, input().split()))\n",
    "\n",
    "p.sort()\n",
    "\n",
    "result = 0\n",
    "cnt = 0\n",
    "\n",
    "for i in p:\n",
    "    cnt += 1\n",
    "    if cnt >= i:\n",
    "        result += 1\n",
    "        cnt = 0\n",
    "\n",
    "print(result)"
   ]
  },
  {
   "cell_type": "code",
   "execution_count": 7,
   "metadata": {},
   "outputs": [
    {
     "name": "stdout",
     "output_type": "stream",
     "text": [
      "210\n"
     ]
    }
   ],
   "source": [
    "# 곱하기 혹은 더하기\n",
    "'''input\n",
    "02984\n",
    "'''\n",
    "\n",
    "n = input()\n",
    "sum = 0\n",
    "\n",
    "for i in n:\n",
    "    if sum == 0:\n",
    "        sum += int(i)\n",
    "    else:\n",
    "        sum *= int(i)\n",
    "\n",
    "print(sum)"
   ]
  },
  {
   "cell_type": "code",
   "execution_count": 12,
   "metadata": {},
   "outputs": [
    {
     "name": "stdout",
     "output_type": "stream",
     "text": [
      "1\n"
     ]
    }
   ],
   "source": [
    "# 문자열 뒤집기\n",
    "'''input\n",
    "0001100\n",
    "'''\n",
    "\n",
    "n = input()\n",
    "cnt = 0\n",
    "\n",
    "for i in range(1,len(n)):\n",
    "    if n[i] != n[i-1]:\n",
    "        cnt += 1\n",
    "\n",
    "print(cnt-1)"
   ]
  },
  {
   "cell_type": "code",
   "execution_count": 15,
   "metadata": {},
   "outputs": [
    {
     "name": "stdout",
     "output_type": "stream",
     "text": [
      "8\n"
     ]
    }
   ],
   "source": [
    "# 만들수 없는 금액\n",
    "'''input\n",
    "5\n",
    "3 2 1 1 9\n",
    "'''\n",
    "\n",
    "n = int(input())\n",
    "num = list(map(int, input().split()))\n",
    "target = 1\n",
    "\n",
    "num.sort()\n",
    "\n",
    "for i in num:\n",
    "    if i > target:\n",
    "        break\n",
    "    target += i\n",
    "\n",
    "print(target)"
   ]
  },
  {
   "cell_type": "code",
   "execution_count": 3,
   "metadata": {},
   "outputs": [
    {
     "name": "stdout",
     "output_type": "stream",
     "text": [
      "8.0\n"
     ]
    }
   ],
   "source": [
    "# 볼링공 고르기\n",
    "'''input\n",
    "5 3\n",
    "1 3 2 3 2\n",
    "'''\n",
    "\n",
    "n, m = map(int, input().split())\n",
    "num = list(map(int, input().split()))\n",
    "\n",
    "cnt = 0\n",
    "\n",
    "for i in num:\n",
    "    for j in num:\n",
    "        if i == j:\n",
    "            continue\n",
    "        cnt += 1\n",
    "\n",
    "print(cnt/2)"
   ]
  },
  {
   "cell_type": "markdown",
   "metadata": {},
   "source": [
    "# 구현"
   ]
  },
  {
   "cell_type": "code",
   "execution_count": null,
   "metadata": {},
   "outputs": [],
   "source": [
    "# 무지의 먹방 라이브\n",
    "'''input\n",
    "\n",
    "'''"
   ]
  }
 ],
 "metadata": {
  "kernelspec": {
   "display_name": "Python 3",
   "language": "python",
   "name": "python3"
  },
  "language_info": {
   "codemirror_mode": {
    "name": "ipython",
    "version": 3
   },
   "file_extension": ".py",
   "mimetype": "text/x-python",
   "name": "python",
   "nbconvert_exporter": "python",
   "pygments_lexer": "ipython3",
   "version": "3.12.4"
  }
 },
 "nbformat": 4,
 "nbformat_minor": 2
}
