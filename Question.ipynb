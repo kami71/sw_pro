{
 "cells": [
  {
   "cell_type": "markdown",
   "metadata": {},
   "source": [
    "# 그리디"
   ]
  },
  {
   "cell_type": "code",
   "execution_count": 4,
   "metadata": {},
   "outputs": [
    {
     "name": "stdout",
     "output_type": "stream",
     "text": [
      "2\n"
     ]
    }
   ],
   "source": [
    "# 모험가 길드\n",
    "'''input\n",
    "5\n",
    "2 3 1 2 2\n",
    "'''\n",
    "n = int(input()) \n",
    "p = list(map(int, input().split()))\n",
    "\n",
    "p.sort()\n",
    "\n",
    "result = 0\n",
    "cnt = 0\n",
    "\n",
    "for i in p:\n",
    "    cnt += 1\n",
    "    if cnt >= i:\n",
    "        result += 1\n",
    "        cnt = 0\n",
    "\n",
    "print(result)"
   ]
  },
  {
   "cell_type": "code",
   "execution_count": 7,
   "metadata": {},
   "outputs": [
    {
     "name": "stdout",
     "output_type": "stream",
     "text": [
      "210\n"
     ]
    }
   ],
   "source": [
    "# 곱하기 혹은 더하기\n",
    "'''input\n",
    "02984\n",
    "'''\n",
    "\n",
    "n = input()\n",
    "sum = 0\n",
    "\n",
    "for i in n:\n",
    "    if sum == 0:\n",
    "        sum += int(i)\n",
    "    else:\n",
    "        sum *= int(i)\n",
    "\n",
    "print(sum)"
   ]
  },
  {
   "cell_type": "code",
   "execution_count": 12,
   "metadata": {},
   "outputs": [
    {
     "name": "stdout",
     "output_type": "stream",
     "text": [
      "1\n"
     ]
    }
   ],
   "source": [
    "# 문자열 뒤집기\n",
    "'''input\n",
    "0001100\n",
    "'''\n",
    "\n",
    "n = input()\n",
    "cnt = 0\n",
    "\n",
    "for i in range(1,len(n)):\n",
    "    if n[i] != n[i-1]:\n",
    "        cnt += 1\n",
    "\n",
    "print(cnt-1)"
   ]
  },
  {
   "cell_type": "code",
   "execution_count": 15,
   "metadata": {},
   "outputs": [
    {
     "name": "stdout",
     "output_type": "stream",
     "text": [
      "8\n"
     ]
    }
   ],
   "source": [
    "# 만들수 없는 금액\n",
    "'''input\n",
    "5\n",
    "3 2 1 1 9\n",
    "'''\n",
    "\n",
    "n = int(input())\n",
    "num = list(map(int, input().split()))\n",
    "target = 1\n",
    "\n",
    "num.sort()\n",
    "\n",
    "for i in num:\n",
    "    if i > target:\n",
    "        break\n",
    "    target += i\n",
    "\n",
    "print(target)"
   ]
  },
  {
   "cell_type": "code",
   "execution_count": 3,
   "metadata": {},
   "outputs": [
    {
     "name": "stdout",
     "output_type": "stream",
     "text": [
      "8.0\n"
     ]
    }
   ],
   "source": [
    "# 볼링공 고르기\n",
    "'''input\n",
    "5 3\n",
    "1 3 2 3 2\n",
    "'''\n",
    "\n",
    "n, m = map(int, input().split())\n",
    "num = list(map(int, input().split()))\n",
    "\n",
    "cnt = 0\n",
    "\n",
    "for i in num:\n",
    "    for j in num:\n",
    "        if i == j:\n",
    "            continue\n",
    "        cnt += 1\n",
    "\n",
    "print(cnt/2)"
   ]
  },
  {
   "cell_type": "markdown",
   "metadata": {},
   "source": [
    "# 구현"
   ]
  },
  {
   "cell_type": "code",
   "execution_count": 5,
   "metadata": {},
   "outputs": [
    {
     "name": "stdout",
     "output_type": "stream",
     "text": [
      "LUCKEY\n",
      "READY\n"
     ]
    }
   ],
   "source": [
    "# 럭키 스테이트\n",
    "'''input\n",
    "2\n",
    "123402\n",
    "7755\n",
    "'''\n",
    "n = int(input())\n",
    "\n",
    "for _ in range(n):\n",
    "    num = input()\n",
    "    half = len(num)//2\n",
    "    left = num[0:half]\n",
    "    right = num[half:]\n",
    "\n",
    "    sum = 0\n",
    "    for i in range(half):\n",
    "        sum += int(left[i])\n",
    "        sum -= int(right[i])\n",
    "    \n",
    "    if sum == 0:\n",
    "        print('LUCKEY')\n",
    "    else:\n",
    "        print('READY')"
   ]
  },
  {
   "cell_type": "code",
   "execution_count": 10,
   "metadata": {},
   "outputs": [
    {
     "name": "stdout",
     "output_type": "stream",
     "text": [
      "ABCKK13\n",
      "ADDIJJJKKLSS20\n"
     ]
    }
   ],
   "source": [
    "# 문자열 재정렬\n",
    "'''input\n",
    "2\n",
    "K1KA5CB7\n",
    "AJKDLSI412K4JSJ9D\n",
    "'''\n",
    "\n",
    "n = int(input())\n",
    "\n",
    "for _ in range(n):\n",
    "    result = ''\n",
    "    sum = 0\n",
    "    \n",
    "    s = list(input())\n",
    "    s.sort()\n",
    "    for i in s:\n",
    "        if i >= '0' and i <= '9':\n",
    "            sum += int(i)\n",
    "        else:\n",
    "            result += i\n",
    "    print(result + str(sum))"
   ]
  },
  {
   "cell_type": "code",
   "execution_count": 1,
   "metadata": {},
   "outputs": [
    {
     "name": "stdout",
     "output_type": "stream",
     "text": [
      "8\n"
     ]
    }
   ],
   "source": [
    "# 뱀\n",
    "'''input\n",
    "6\n",
    "3\n",
    "3 4\n",
    "2 5\n",
    "5 3\n",
    "3\n",
    "3 D\n",
    "15 L\n",
    "17 D\n",
    "'''\n",
    "from collections import deque\n",
    "\n",
    "n = int(input())\n",
    "k = int(input())\n",
    "\n",
    "world = [[0 for _ in range(n+1)] for _ in range(n+1)]\n",
    "for _ in range(k):\n",
    "    a, b = map(int, input().split())\n",
    "    world[a][b] = 1\n",
    "\n",
    "now = [1,1]\n",
    "direction = 3\n",
    "q = deque()\n",
    "q.append((now[0],now[1]))\n",
    "check_out = False\n",
    "cnt = 0\n",
    "\n",
    "l = int(input())\n",
    "for _ in range(l):\n",
    "\n",
    "    time, rotate = input().split()\n",
    "    for _ in range(int(time)):\n",
    "        if direction == 3:\n",
    "            now[1] += 1\n",
    "        elif direction == 9:\n",
    "            now[1] -= 1\n",
    "        elif direction == 6:\n",
    "            now[0] += 1\n",
    "        elif direction == 12:\n",
    "            now[0] -= 1\n",
    "\n",
    "        if now[0] < 0 or now[0] > n or now[1] < 0 or now[1] > n or (now[0],now[1]) in q:\n",
    "            check_out = True\n",
    "            break\n",
    "\n",
    "        q.append((now[0],now[1]))\n",
    "        cnt += 1\n",
    "        if world[now[0]][now[1]] != 1:\n",
    "            q.popleft()\n",
    "\n",
    "    if check_out == True:\n",
    "        break\n",
    "\n",
    "    if rotate == 'L':\n",
    "        if direction == 3:\n",
    "            direction = 12\n",
    "        else:\n",
    "            direction -= 3\n",
    "    elif rotate == 'D':\n",
    "        if direction == 12:\n",
    "            direction = 3\n",
    "        else:\n",
    "            direction += 3\n",
    "    \n",
    "print(cnt)"
   ]
  },
  {
   "cell_type": "markdown",
   "metadata": {},
   "source": [
    "# DFS/BFS"
   ]
  },
  {
   "cell_type": "code",
   "execution_count": null,
   "metadata": {},
   "outputs": [],
   "source": [
    "# 경쟁적 점염\n",
    "'''input\n",
    "3 3\n",
    "1 0 2\n",
    "0 0 0\n",
    "3 0 0 \n",
    "2 3 2'''\n",
    "\n"
   ]
  },
  {
   "cell_type": "markdown",
   "metadata": {},
   "source": [
    "# Dijkstra"
   ]
  },
  {
   "cell_type": "code",
   "execution_count": 9,
   "metadata": {},
   "outputs": [
    {
     "name": "stdout",
     "output_type": "stream",
     "text": [
      "2\n",
      "3\n"
     ]
    }
   ],
   "source": [
    "# 특정거리의 도시 찾기\n",
    "''''input\n",
    "4 4 1 1\n",
    "1 2\n",
    "1 3\n",
    "2 3\n",
    "2 4\n",
    "'''\n",
    "import heapq\n",
    "\n",
    "INF = int(1e9)\n",
    "graph = {}\n",
    "visited = set()\n",
    "\n",
    "n, m, k, x = map(int, input().split())\n",
    "distance = [INF for _ in range(n+1)]\n",
    "\n",
    "for _ in range(m):\n",
    "    a, b = map(int, input().split())\n",
    "    if a in graph:\n",
    "        graph[a].append((b, 1))\n",
    "    else:\n",
    "        graph[a] = [(b, 1)]\n",
    "\n",
    "def dijkstra(start):\n",
    "    q = []\n",
    "    heapq.heappush(q, (0, start))\n",
    "    distance[start] = 0\n",
    "\n",
    "    while q:\n",
    "        now_cost, now = heapq.heappop(q)\n",
    "        if now in visited:\n",
    "            continue\n",
    "        else:\n",
    "            visited.add(now)\n",
    "    \n",
    "        if now in graph:\n",
    "            for node, node_cost in graph[now]:\n",
    "                new_cost = distance[now] + node_cost\n",
    "                if new_cost < distance[node]:\n",
    "                    distance[node] = new_cost\n",
    "                    heapq.heappush(q, (new_cost, node))\n",
    "\n",
    "dijkstra(x)\n",
    "\n",
    "if k in distance:\n",
    "    for i, v in enumerate(distance):\n",
    "        if v == k:\n",
    "            print(i)\n",
    "else:\n",
    "    print(-1)"
   ]
  },
  {
   "cell_type": "code",
   "execution_count": 8,
   "metadata": {},
   "outputs": [
    {
     "data": {
      "text/plain": [
       "{1: [(2, 1), (3, 1), (4, 1)]}"
      ]
     },
     "execution_count": 8,
     "metadata": {},
     "output_type": "execute_result"
    }
   ],
   "source": [
    "# 연구소\n",
    "'''input\n",
    "7 7\n",
    "2 0 0 0 1 1 0\n",
    "0 0 1 0 1 2 0\n",
    "0 1 1 0 1 0 0\n",
    "0 1 0 0 0 0 0\n",
    "0 0 0 0 0 1 1\n",
    "0 1 0 0 0 0 0\n",
    "0 1 0 0 0 0 0'''\n",
    "\n"
   ]
  },
  {
   "cell_type": "code",
   "execution_count": null,
   "metadata": {},
   "outputs": [],
   "source": []
  }
 ],
 "metadata": {
  "kernelspec": {
   "display_name": "Python 3",
   "language": "python",
   "name": "python3"
  },
  "language_info": {
   "codemirror_mode": {
    "name": "ipython",
    "version": 3
   },
   "file_extension": ".py",
   "mimetype": "text/x-python",
   "name": "python",
   "nbconvert_exporter": "python",
   "pygments_lexer": "ipython3",
   "version": "3.12.2"
  }
 },
 "nbformat": 4,
 "nbformat_minor": 2
}
