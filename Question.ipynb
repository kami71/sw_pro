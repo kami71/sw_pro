{
 "cells": [
  {
   "cell_type": "markdown",
   "metadata": {},
   "source": [
    "# 그리디"
   ]
  },
  {
   "cell_type": "code",
   "execution_count": 4,
   "metadata": {},
   "outputs": [
    {
     "name": "stdout",
     "output_type": "stream",
     "text": [
      "2\n"
     ]
    }
   ],
   "source": [
    "# 모험가 길드\n",
    "'''input\n",
    "5\n",
    "2 3 1 2 2\n",
    "'''\n",
    "n = int(input()) \n",
    "p = list(map(int, input().split()))\n",
    "\n",
    "p.sort()\n",
    "\n",
    "result = 0\n",
    "cnt = 0\n",
    "\n",
    "for i in p:\n",
    "    cnt += 1\n",
    "    if cnt >= i:\n",
    "        result += 1\n",
    "        cnt = 0\n",
    "\n",
    "print(result)"
   ]
  },
  {
   "cell_type": "code",
   "execution_count": 7,
   "metadata": {},
   "outputs": [
    {
     "name": "stdout",
     "output_type": "stream",
     "text": [
      "210\n"
     ]
    }
   ],
   "source": [
    "# 곱하기 혹은 더하기\n",
    "'''input\n",
    "02984\n",
    "'''\n",
    "\n",
    "n = input()\n",
    "sum = 0\n",
    "\n",
    "for i in n:\n",
    "    if sum == 0:\n",
    "        sum += int(i)\n",
    "    else:\n",
    "        sum *= int(i)\n",
    "\n",
    "print(sum)"
   ]
  },
  {
   "cell_type": "code",
   "execution_count": 12,
   "metadata": {},
   "outputs": [
    {
     "name": "stdout",
     "output_type": "stream",
     "text": [
      "1\n"
     ]
    }
   ],
   "source": [
    "# 문자열 뒤집기\n",
    "'''input\n",
    "0001100\n",
    "'''\n",
    "\n",
    "n = input()\n",
    "cnt = 0\n",
    "\n",
    "for i in range(1,len(n)):\n",
    "    if n[i] != n[i-1]:\n",
    "        cnt += 1\n",
    "\n",
    "print(cnt-1)"
   ]
  },
  {
   "cell_type": "code",
   "execution_count": 15,
   "metadata": {},
   "outputs": [
    {
     "name": "stdout",
     "output_type": "stream",
     "text": [
      "8\n"
     ]
    }
   ],
   "source": [
    "# 만들수 없는 금액\n",
    "'''input\n",
    "5\n",
    "3 2 1 1 9\n",
    "'''\n",
    "\n",
    "n = int(input())\n",
    "num = list(map(int, input().split()))\n",
    "target = 1\n",
    "\n",
    "num.sort()\n",
    "\n",
    "for i in num:\n",
    "    if i > target:\n",
    "        break\n",
    "    target += i\n",
    "\n",
    "print(target)"
   ]
  },
  {
   "cell_type": "code",
   "execution_count": 3,
   "metadata": {},
   "outputs": [
    {
     "name": "stdout",
     "output_type": "stream",
     "text": [
      "8.0\n"
     ]
    }
   ],
   "source": [
    "# 볼링공 고르기\n",
    "'''input\n",
    "5 3\n",
    "1 3 2 3 2\n",
    "'''\n",
    "\n",
    "n, m = map(int, input().split())\n",
    "num = list(map(int, input().split()))\n",
    "\n",
    "cnt = 0\n",
    "\n",
    "for i in num:\n",
    "    for j in num:\n",
    "        if i == j:\n",
    "            continue\n",
    "        cnt += 1\n",
    "\n",
    "print(cnt/2)"
   ]
  },
  {
   "cell_type": "markdown",
   "metadata": {},
   "source": [
    "# 구현"
   ]
  },
  {
   "cell_type": "code",
   "execution_count": 5,
   "metadata": {},
   "outputs": [
    {
     "name": "stdout",
     "output_type": "stream",
     "text": [
      "LUCKEY\n",
      "READY\n"
     ]
    }
   ],
   "source": [
    "# 럭키 스테이트\n",
    "'''input\n",
    "2\n",
    "123402\n",
    "7755\n",
    "'''\n",
    "n = int(input())\n",
    "\n",
    "for _ in range(n):\n",
    "    num = input()\n",
    "    half = len(num)//2\n",
    "    left = num[0:half]\n",
    "    right = num[half:]\n",
    "\n",
    "    sum = 0\n",
    "    for i in range(half):\n",
    "        sum += int(left[i])\n",
    "        sum -= int(right[i])\n",
    "    \n",
    "    if sum == 0:\n",
    "        print('LUCKEY')\n",
    "    else:\n",
    "        print('READY')"
   ]
  },
  {
   "cell_type": "code",
   "execution_count": 10,
   "metadata": {},
   "outputs": [
    {
     "name": "stdout",
     "output_type": "stream",
     "text": [
      "ABCKK13\n",
      "ADDIJJJKKLSS20\n"
     ]
    }
   ],
   "source": [
    "# 문자열 재정렬\n",
    "'''input\n",
    "2\n",
    "K1KA5CB7\n",
    "AJKDLSI412K4JSJ9D\n",
    "'''\n",
    "\n",
    "n = int(input())\n",
    "\n",
    "for _ in range(n):\n",
    "    result = ''\n",
    "    sum = 0\n",
    "    \n",
    "    s = list(input())\n",
    "    s.sort()\n",
    "    for i in s:\n",
    "        if i >= '0' and i <= '9':\n",
    "            sum += int(i)\n",
    "        else:\n",
    "            result += i\n",
    "    print(result + str(sum))"
   ]
  },
  {
   "cell_type": "code",
   "execution_count": 1,
   "metadata": {},
   "outputs": [
    {
     "name": "stdout",
     "output_type": "stream",
     "text": [
      "8\n"
     ]
    }
   ],
   "source": [
    "# 뱀\n",
    "'''input\n",
    "6\n",
    "3\n",
    "3 4\n",
    "2 5\n",
    "5 3\n",
    "3\n",
    "3 D\n",
    "15 L\n",
    "17 D\n",
    "'''\n",
    "from collections import deque\n",
    "\n",
    "n = int(input())\n",
    "k = int(input())\n",
    "\n",
    "world = [[0 for _ in range(n+1)] for _ in range(n+1)]\n",
    "for _ in range(k):\n",
    "    a, b = map(int, input().split())\n",
    "    world[a][b] = 1\n",
    "\n",
    "now = [1,1]\n",
    "direction = 3\n",
    "q = deque()\n",
    "q.append((now[0],now[1]))\n",
    "check_out = False\n",
    "cnt = 0\n",
    "\n",
    "l = int(input())\n",
    "for _ in range(l):\n",
    "\n",
    "    time, rotate = input().split()\n",
    "    for _ in range(int(time)):\n",
    "        if direction == 3:\n",
    "            now[1] += 1\n",
    "        elif direction == 9:\n",
    "            now[1] -= 1\n",
    "        elif direction == 6:\n",
    "            now[0] += 1\n",
    "        elif direction == 12:\n",
    "            now[0] -= 1\n",
    "\n",
    "        if now[0] < 0 or now[0] > n or now[1] < 0 or now[1] > n or (now[0],now[1]) in q:\n",
    "            check_out = True\n",
    "            break\n",
    "\n",
    "        q.append((now[0],now[1]))\n",
    "        cnt += 1\n",
    "        if world[now[0]][now[1]] != 1:\n",
    "            q.popleft()\n",
    "\n",
    "    if check_out == True:\n",
    "        break\n",
    "\n",
    "    if rotate == 'L':\n",
    "        if direction == 3:\n",
    "            direction = 12\n",
    "        else:\n",
    "            direction -= 3\n",
    "    elif rotate == 'D':\n",
    "        if direction == 12:\n",
    "            direction = 3\n",
    "        else:\n",
    "            direction += 3\n",
    "    \n",
    "print(cnt)"
   ]
  },
  {
   "cell_type": "markdown",
   "metadata": {},
   "source": [
    "# 이진탐색"
   ]
  },
  {
   "cell_type": "code",
   "execution_count": 1,
   "metadata": {},
   "outputs": [
    {
     "name": "stdout",
     "output_type": "stream",
     "text": [
      "4\n"
     ]
    }
   ],
   "source": [
    "# 정렬된 배열에서 특정 수의 개수 구하기\n",
    "'''input\n",
    "7 2\n",
    "1 1 2 2 2 2 3\n",
    "'''\n",
    "\n",
    "from bisect import bisect_left, bisect_right\n",
    "\n",
    "n, x = map(int, input().split())\n",
    "array = list(map(int, input().split()))\n",
    "\n",
    "left_index = bisect_left(array, x)\n",
    "right_index = bisect_right(array, x)\n",
    "\n",
    "print(right_index - left_index)"
   ]
  },
  {
   "cell_type": "markdown",
   "metadata": {},
   "source": [
    "# Dijkstra"
   ]
  },
  {
   "cell_type": "code",
   "execution_count": 9,
   "metadata": {},
   "outputs": [
    {
     "name": "stdout",
     "output_type": "stream",
     "text": [
      "2\n",
      "3\n"
     ]
    }
   ],
   "source": [
    "# 특정거리의 도시 찾기\n",
    "''''input\n",
    "4 4 1 1\n",
    "1 2\n",
    "1 3\n",
    "2 3\n",
    "2 4\n",
    "'''\n",
    "import heapq\n",
    "\n",
    "INF = int(1e9)\n",
    "graph = {}\n",
    "visited = set()\n",
    "\n",
    "n, m, k, x = map(int, input().split())\n",
    "distance = [INF for _ in range(n+1)]\n",
    "\n",
    "for _ in range(m):\n",
    "    a, b = map(int, input().split())\n",
    "    if a in graph:\n",
    "        graph[a].append((b, 1))\n",
    "    else:\n",
    "        graph[a] = [(b, 1)]\n",
    "\n",
    "def dijkstra(start):\n",
    "    q = []\n",
    "    heapq.heappush(q, (0, start))\n",
    "    distance[start] = 0\n",
    "\n",
    "    while q:\n",
    "        now_cost, now = heapq.heappop(q)\n",
    "        if now in visited:\n",
    "            continue\n",
    "        else:\n",
    "            visited.add(now)\n",
    "    \n",
    "        if now in graph:\n",
    "            for node, node_cost in graph[now]:\n",
    "                new_cost = distance[now] + node_cost\n",
    "                if new_cost < distance[node]:\n",
    "                    distance[node] = new_cost\n",
    "                    heapq.heappush(q, (new_cost, node))\n",
    "\n",
    "dijkstra(x)\n",
    "\n",
    "if k in distance:\n",
    "    for i, v in enumerate(distance):\n",
    "        if v == k:\n",
    "            print(i)\n",
    "else:\n",
    "    print(-1)"
   ]
  },
  {
   "cell_type": "code",
   "execution_count": 39,
   "metadata": {},
   "outputs": [
    {
     "name": "stdout",
     "output_type": "stream",
     "text": [
      "20\n"
     ]
    }
   ],
   "source": [
    "# 화성탐사\n",
    "'''input\n",
    "3\n",
    "5 5 4\n",
    "3 9 1\n",
    "3 2 7'''\n",
    "\n",
    "import heapq\n",
    "\n",
    "INF = int(1e9)\n",
    "graph = []\n",
    "q =[]\n",
    "\n",
    "n = int(input())\n",
    "distance = [[INF for _ in range(n)] for _ in range(n)]\n",
    "\n",
    "for _ in range(n):\n",
    "    graph.append(list(map(int, input().split())))\n",
    "\n",
    "dx = [-1, 0, 1, 0]\n",
    "dy = [0, -1, 0, 1]\n",
    "\n",
    "x, y = 0, 0\n",
    "\n",
    "heapq.heappush(q, (graph[x][y], x, y))\n",
    "distance[x][y] = graph[x][y]\n",
    "\n",
    "while q:\n",
    "    dist, x, y = heapq.heappop(q)\n",
    "    if distance[x][y] < dist:\n",
    "        continue\n",
    "    for i in range(4):\n",
    "        nx = x + dx[i]\n",
    "        ny = y + dy[i]\n",
    "        if nx < 0 or nx >= n or ny < 0 or ny >= n:\n",
    "            continue\n",
    "        cost = dist + graph[nx][ny]\n",
    "        if cost < distance[nx][ny]:\n",
    "            distance[nx][ny] = cost\n",
    "            heapq.heappush(q, (cost, nx, ny))\n",
    "\n",
    "print(distance[n-1][n-1])"
   ]
  },
  {
   "cell_type": "code",
   "execution_count": 52,
   "metadata": {},
   "outputs": [
    {
     "name": "stdout",
     "output_type": "stream",
     "text": [
      "[1000000000, 0, 1, 1, 2, 2, 2]\n",
      "4 2 3\n"
     ]
    }
   ],
   "source": [
    "# 숨바꼭질\n",
    "'''input\n",
    "6 7\n",
    "3 6\n",
    "4 3\n",
    "3 2\n",
    "1 3\n",
    "1 2\n",
    "2 4\n",
    "5 2'''\n",
    "\n",
    "import heapq\n",
    "\n",
    "INF = int(1e9)\n",
    "n, m = map(int, input().split())\n",
    "distance = [INF for _ in range(n+1)]\n",
    "graph = {}\n",
    "q = []\n",
    "\n",
    "for _ in range(m):\n",
    "    a, b = map(int, input().split())\n",
    "    if a in graph:\n",
    "        graph[a].append((1, b))\n",
    "    else:\n",
    "        graph[a] = [(1, b)]\n",
    "    if b in graph:\n",
    "        graph[b].append((1, a))\n",
    "    else:\n",
    "        graph[b] = [(1, a)]\n",
    "        \n",
    "heapq.heappush(q, (0, 1))\n",
    "distance[1] = 0\n",
    "\n",
    "while q:\n",
    "    from_cost, from_node = heapq.heappop(q)\n",
    "    if distance[from_node] < from_cost:\n",
    "        continue\n",
    "    for to_cost, to_node in graph[from_node]:\n",
    "        new_cost = to_cost + distance[from_node]\n",
    "        if new_cost < distance[to_node]:\n",
    "            distance[to_node] = new_cost\n",
    "            heapq.heappush(q, (new_cost, to_node))\n",
    "\n",
    "print(distance)\n",
    "max_distance = max(distance[1:])\n",
    "max_index = distance.index(max_distance)\n",
    "max_cnt = distance.count(max_distance)\n",
    "print(max_index, max_distance, max_cnt)"
   ]
  },
  {
   "cell_type": "markdown",
   "metadata": {},
   "source": [
    "# Dynamic programming"
   ]
  },
  {
   "cell_type": "code",
   "execution_count": 17,
   "metadata": {},
   "outputs": [
    {
     "name": "stdout",
     "output_type": "stream",
     "text": [
      "19\n"
     ]
    }
   ],
   "source": [
    "# 금광\n",
    "'''input\n",
    "3 4\n",
    "1 3 3 2 2 1 4 1 0 6 4 7\n",
    "'''\n",
    "\n",
    "n, m = map(int, input().split())\n",
    "arr = list(map(int, input().split()))\n",
    "\n",
    "dp = []\n",
    "index = 0\n",
    "for _ in range(n):\n",
    "    dp.append(arr[index:index+m])\n",
    "    index += m\n",
    "\n",
    "for j in range(1, m):\n",
    "    for i in range(n):\n",
    "        lv = [0,0,0]\n",
    "        # 왼쪽위 값\n",
    "        if i != 0:\n",
    "            lv[0] = dp[i-1][j-1]\n",
    "        # 왼쪽 값\n",
    "        lv[1] = dp[i][j-1]\n",
    "        # 왼쪽아래 값\n",
    "        if i != n-1:\n",
    "            lv[2] = dp[i+1][j-1]\n",
    "        dp[i][j] += max(lv)\n",
    "\n",
    "result = 0\n",
    "for i in range(n):\n",
    "    result = max(result, dp[i][m-1])\n",
    "\n",
    "print(result)"
   ]
  },
  {
   "cell_type": "code",
   "execution_count": 32,
   "metadata": {},
   "outputs": [
    {
     "name": "stdout",
     "output_type": "stream",
     "text": [
      "30\n"
     ]
    }
   ],
   "source": [
    "# 정수 삼각형\n",
    "'''input\n",
    "5\n",
    "7\n",
    "3 8\n",
    "8 1 0\n",
    "2 7 4 4\n",
    "4 5 2 6 5'''\n",
    "\n",
    "n = int(input())\n",
    "tri = [[0 for _ in range(n+1)] for _ in range(n+1)]\n",
    "\n",
    "for i in range(n):\n",
    "    arr = list(map(int, input().split()))\n",
    "    for j, v in enumerate(arr):\n",
    "        tri[i+1][j+1] = v\n",
    "\n",
    "for i in range(2, n+1):\n",
    "    for j in range(1, n+1):\n",
    "        tri[i][j] = tri[i][j] + max(tri[i-1][j-1], tri[i-1][j])\n",
    "\n",
    "print(max(tri[n]))\n"
   ]
  },
  {
   "cell_type": "markdown",
   "metadata": {},
   "source": [
    "# 플로이드 워셜"
   ]
  },
  {
   "cell_type": "code",
   "execution_count": 38,
   "metadata": {},
   "outputs": [
    {
     "name": "stdout",
     "output_type": "stream",
     "text": [
      "[0, 2, 3, 1, 4]\n",
      "[12, 0, 15, 2, 5]\n",
      "[8, 5, 0, 1, 1]\n",
      "[10, 7, 13, 0, 3]\n",
      "[7, 4, 10, 6, 0]\n"
     ]
    }
   ],
   "source": [
    "# 플로이드\n",
    "'''input\n",
    "5 14\n",
    "1 2 2\n",
    "1 3 3\n",
    "1 4 1\n",
    "15 10\n",
    "2 4 2\n",
    "3 4 1\n",
    "3 5 1\n",
    "4 5 3\n",
    "3 5 10\n",
    "3 1 8\n",
    "1 4 2\n",
    "5 1 7\n",
    "3 4 2\n",
    "5 2 4'''\n",
    "\n",
    "INF = int(1e9)\n",
    "n, m = map(int, input().split())\n",
    "adj = [[INF for _ in range(n+1)] for _ in range(n+1)]\n",
    "\n",
    "for i in range(1, n+1):\n",
    "    for j in range(1, n+1):\n",
    "        if i==j:\n",
    "            adj[i][j] = 0\n",
    "\n",
    "for _ in range(m):\n",
    "    a, b, c = map(int, input().split())\n",
    "    if adj[a][b] > c:\n",
    "        adj[a][b] = c\n",
    "\n",
    "for k in range(1, n+1):\n",
    "    for a in range(1, n+1):\n",
    "        for b in range(1, n+1):\n",
    "            adj[a][b] = min(adj[a][b], adj[a][k]+adj[k][b])\n",
    "\n",
    "for i in range(1, n+1):\n",
    "    print(adj[i][1:])\n"
   ]
  },
  {
   "cell_type": "code",
   "execution_count": null,
   "metadata": {},
   "outputs": [],
   "source": []
  }
 ],
 "metadata": {
  "kernelspec": {
   "display_name": "Python 3",
   "language": "python",
   "name": "python3"
  },
  "language_info": {
   "codemirror_mode": {
    "name": "ipython",
    "version": 3
   },
   "file_extension": ".py",
   "mimetype": "text/x-python",
   "name": "python",
   "nbconvert_exporter": "python",
   "pygments_lexer": "ipython3",
   "version": "3.12.4"
  }
 },
 "nbformat": 4,
 "nbformat_minor": 2
}
