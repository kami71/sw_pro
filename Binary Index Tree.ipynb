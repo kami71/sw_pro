{
 "cells": [
  {
   "cell_type": "markdown",
   "metadata": {},
   "source": [
    "# 바이너리 인덱스 트리 (구간합)"
   ]
  },
  {
   "cell_type": "code",
   "execution_count": 3,
   "metadata": {},
   "outputs": [
    {
     "name": "stdout",
     "output_type": "stream",
     "text": [
      "0b111\n"
     ]
    }
   ],
   "source": [
    "print(bin(7))"
   ]
  },
  {
   "cell_type": "code",
   "execution_count": 5,
   "metadata": {},
   "outputs": [
    {
     "name": "stdout",
     "output_type": "stream",
     "text": [
      "0\n",
      "1\n",
      "2\n",
      "1\n",
      "4\n",
      "1\n",
      "2\n",
      "1\n",
      "8\n"
     ]
    }
   ],
   "source": [
    "# 0이 아닌 마지막 비트 값 => K & -K 로 구함\n",
    "\n",
    "print(0 & -0) # 00000000\n",
    "print(1 & -1) # 00000001\n",
    "print(2 & -2) # 00000010\n",
    "print(3 & -3) # 00000011\n",
    "print(4 & -4) # 00000100\n",
    "print(5 & -5) # 00000101\n",
    "print(6 & -6) # 00000110\n",
    "print(7 & -7) # 00000111\n",
    "print(8 & -8) # 00001000\n",
    "\n",
    "# 0이 아닌 마지막 비트 값  = 내가 저장하고 있는 값의 개수"
   ]
  },
  {
   "cell_type": "code",
   "execution_count": null,
   "metadata": {},
   "outputs": [],
   "source": [
    "# 데이터 개수(n), 변경 횟수(m), 구간 합 계사 횟수(k)\n",
    "n, m, k = map(int, input().split())\n",
    "\n",
    "arr = [0] * (n+1)\n",
    "tree = [0] * (n+1)\n",
    "\n",
    "# i번째 수까지의 누적 합\n",
    "def prefix_sum(i):\n",
    "    result = 0\n",
    "    while i > 0:\n",
    "        result += tree[i]\n",
    "        i -= (i & -i)\n",
    "\n",
    "# i번째 수에 dif를 더함\n",
    "def update(i, dif):\n",
    "    while i <= n:\n",
    "        tree[i] += dif\n",
    "        i += (i & -i)\n",
    "\n",
    "for i in range(1, n+1):\n",
    "    x = int(input())\n",
    "    arr[i] = x\n",
    "    update(i, x)\n",
    "\n",
    "# 구간합\n",
    "prefix_sum(5) - prefix_sum(2-1)"
   ]
  }
 ],
 "metadata": {
  "kernelspec": {
   "display_name": "Python 3",
   "language": "python",
   "name": "python3"
  },
  "language_info": {
   "codemirror_mode": {
    "name": "ipython",
    "version": 3
   },
   "file_extension": ".py",
   "mimetype": "text/x-python",
   "name": "python",
   "nbconvert_exporter": "python",
   "pygments_lexer": "ipython3",
   "version": "3.12.2"
  }
 },
 "nbformat": 4,
 "nbformat_minor": 2
}
