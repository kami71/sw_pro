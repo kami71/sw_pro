{
 "cells": [
  {
   "cell_type": "markdown",
   "id": "7c0b8428-2da3-43d2-add3-560fee2739a4",
   "metadata": {},
   "source": [
    "# 재귀적 용법"
   ]
  },
  {
   "cell_type": "code",
   "execution_count": 7,
   "id": "ec4f3800-6e55-4b76-93e1-fb29ed7c7565",
   "metadata": {},
   "outputs": [
    {
     "data": {
      "text/plain": [
       "6765"
      ]
     },
     "execution_count": 7,
     "metadata": {},
     "output_type": "execute_result"
    }
   ],
   "source": [
    "def fib(n):\n",
    "    if n == 0 or n == 1:\n",
    "       return n\n",
    "    return fib(n-1) + fib(n-1)\n",
    "\n",
    "fibo(20)"
   ]
  },
  {
   "cell_type": "markdown",
   "id": "c841377b-b80d-4c83-8ab8-bbcbac8cc014",
   "metadata": {},
   "source": [
    "# Memorozation 사용"
   ]
  },
  {
   "cell_type": "code",
   "execution_count": 8,
   "id": "f81ab553-9546-495d-8123-18e22f4403ca",
   "metadata": {},
   "outputs": [
    {
     "data": {
      "text/plain": [
       "6765"
      ]
     },
     "execution_count": 8,
     "metadata": {},
     "output_type": "execute_result"
    }
   ],
   "source": [
    "memo = [0] * 100\n",
    "\n",
    "def fibo(x):\n",
    "    if x == 1 or x == 2:\n",
    "        return 1\n",
    "    if memo[x] != 0:\n",
    "        return memo[x]\n",
    "    memo[x] = fibo(x-1) + fibo(x-2)\n",
    "    return memo[x]\n",
    "\n",
    "fibo(20)"
   ]
  },
  {
   "cell_type": "markdown",
   "id": "5fe227df-e22e-4830-946d-1b546e2fd1d6",
   "metadata": {},
   "source": [
    "# 점화식 사용"
   ]
  },
  {
   "cell_type": "code",
   "execution_count": 3,
   "id": "fd0f217a-b904-4f6c-94b4-61f6034dcee9",
   "metadata": {},
   "outputs": [
    {
     "data": {
      "text/plain": [
       "6765"
      ]
     },
     "execution_count": 3,
     "metadata": {},
     "output_type": "execute_result"
    }
   ],
   "source": [
    "fib_list = [0, 1]  # DP Table\n",
    "\n",
    "def fibo(n):\n",
    "    for index in range(2, n+1):\n",
    "        next_fib = fib_list[index-1] + fib_list[index-2]\n",
    "        fib_list.append(next_fib)\n",
    "    return fib_list[n]\n",
    "\n",
    "fibo(20)"
   ]
  },
  {
   "cell_type": "code",
   "execution_count": null,
   "id": "cfe113c6-bbdb-43fd-94f8-19ecce53f2af",
   "metadata": {},
   "outputs": [],
   "source": []
  }
 ],
 "metadata": {
  "kernelspec": {
   "display_name": "Python 3 (ipykernel)",
   "language": "python",
   "name": "python3"
  },
  "language_info": {
   "codemirror_mode": {
    "name": "ipython",
    "version": 3
   },
   "file_extension": ".py",
   "mimetype": "text/x-python",
   "name": "python",
   "nbconvert_exporter": "python",
   "pygments_lexer": "ipython3",
   "version": "3.11.7"
  }
 },
 "nbformat": 4,
 "nbformat_minor": 5
}
