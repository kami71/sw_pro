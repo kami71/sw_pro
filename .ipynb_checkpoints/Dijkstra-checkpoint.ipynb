{
 "cells": [
  {
   "cell_type": "markdown",
   "id": "4be01db6-af4c-4a8c-8d58-cf7b244015ea",
   "metadata": {},
   "source": [
    "# 간단한 알고리즘"
   ]
  },
  {
   "cell_type": "code",
   "execution_count": 2,
   "id": "4c80b7e5-b878-462b-a626-e44c73198198",
   "metadata": {},
   "outputs": [
    {
     "name": "stdin",
     "output_type": "stream",
     "text": [
      " 6 11\n",
      " 1\n",
      "  1 2 2\n",
      " 1 3 5\n",
      " 1 4 1\n",
      "  2 3 3\n",
      " 2 4 2\n",
      " 3 2 3\n",
      " 3 6 5\n",
      " 4 3 3\n",
      " 4 5 1\n",
      " 5 3 1\n",
      " 5 6 2\n"
     ]
    }
   ],
   "source": [
    "# 입력받기 및 초기화\n",
    "INF = int(1e9)  # 10억(무한)\n",
    "visited = [False] * (n+1)\n",
    "distance = [INF] * (n+1)\n",
    "\n",
    "n,m = map(int, input().split())\n",
    "start = int(input())\n",
    "graph = [[] for i in range(n+1)]\n",
    "for _ in range(m):\n",
    "    a,b,c = map(int, input().split())\n",
    "    graph[a].append((b,c))"
   ]
  },
  {
   "cell_type": "code",
   "execution_count": 3,
   "id": "323f0812-8890-4100-aeee-086cc7a523d1",
   "metadata": {},
   "outputs": [
    {
     "data": {
      "text/plain": [
       "[[],\n",
       " [(2, 2), (3, 5), (4, 1)],\n",
       " [(3, 3), (4, 2)],\n",
       " [(2, 3), (6, 5)],\n",
       " [(3, 3), (5, 1)],\n",
       " [(3, 1), (6, 2)],\n",
       " []]"
      ]
     },
     "execution_count": 3,
     "metadata": {},
     "output_type": "execute_result"
    }
   ],
   "source": [
    "graph"
   ]
  },
  {
   "cell_type": "code",
   "execution_count": null,
   "id": "23d09bb2-4505-48f6-9194-385dcaffb263",
   "metadata": {},
   "outputs": [],
   "source": []
  }
 ],
 "metadata": {
  "kernelspec": {
   "display_name": "Python 3 (ipykernel)",
   "language": "python",
   "name": "python3"
  },
  "language_info": {
   "codemirror_mode": {
    "name": "ipython",
    "version": 3
   },
   "file_extension": ".py",
   "mimetype": "text/x-python",
   "name": "python",
   "nbconvert_exporter": "python",
   "pygments_lexer": "ipython3",
   "version": "3.11.7"
  }
 },
 "nbformat": 4,
 "nbformat_minor": 5
}
