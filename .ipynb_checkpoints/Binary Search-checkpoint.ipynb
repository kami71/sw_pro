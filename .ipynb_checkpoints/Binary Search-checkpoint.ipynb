{
 "cells": [
  {
   "cell_type": "markdown",
   "id": "d7255921-8030-4c5d-805b-a1bdecc5324d",
   "metadata": {},
   "source": [
    "# Binary Search"
   ]
  },
  {
   "cell_type": "code",
   "execution_count": 6,
   "id": "b5cbb9a8-515d-495d-9295-d06bc9bf65cf",
   "metadata": {},
   "outputs": [
    {
     "data": {
      "text/plain": [
       "3"
      ]
     },
     "execution_count": 6,
     "metadata": {},
     "output_type": "execute_result"
    }
   ],
   "source": [
    "def binary_search(array, target, start, end):\n",
    "    while start <= end:\n",
    "        mid = (start + end) // 2  # 주의, index 합을 2로 나눈 몫\n",
    "        if array[mid] == target:\n",
    "            return mid\n",
    "        elif array[mid] > target:\n",
    "            end = mid - 1  # mid 이전 index\n",
    "        else:\n",
    "            start = mid + 1  # mid 다음 index\n",
    "    return None\n",
    "\n",
    "array = [1,3,5,7,9,11,13,15,17,19]\n",
    "\n",
    "binary_search(array, 7, 0, 9)"
   ]
  },
  {
   "cell_type": "code",
   "execution_count": null,
   "id": "386ff5ae-b50e-4e30-8b3e-4b35e6d13960",
   "metadata": {},
   "outputs": [],
   "source": []
  }
 ],
 "metadata": {
  "kernelspec": {
   "display_name": "Python 3 (ipykernel)",
   "language": "python",
   "name": "python3"
  },
  "language_info": {
   "codemirror_mode": {
    "name": "ipython",
    "version": 3
   },
   "file_extension": ".py",
   "mimetype": "text/x-python",
   "name": "python",
   "nbconvert_exporter": "python",
   "pygments_lexer": "ipython3",
   "version": "3.11.7"
  }
 },
 "nbformat": 4,
 "nbformat_minor": 5
}
