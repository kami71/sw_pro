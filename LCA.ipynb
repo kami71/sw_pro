{
 "cells": [
  {
   "cell_type": "markdown",
   "metadata": {},
   "source": [
    "# LCA"
   ]
  },
  {
   "cell_type": "code",
   "execution_count": 5,
   "metadata": {},
   "outputs": [],
   "source": [
    "'''input\n",
    "11\n",
    "a b\n",
    "a c\n",
    "b d\n",
    "b e\n",
    "c f\n",
    "c g\n",
    "d h\n",
    "d i\n",
    "e j\n",
    "e k\n",
    "'''\n",
    "\n",
    "n = int(input())\n",
    "\n",
    "parent = {}\n",
    "depth = {}\n",
    "graph = {}\n",
    "visited = set()\n",
    "\n",
    "for _ in range(n-1):\n",
    "    a, b = input().split()\n",
    "    if a in graph:\n",
    "        graph[a].append(b)\n",
    "    else:\n",
    "        graph[a] = [b]\n",
    "\n",
    "def dfs(x, d):\n",
    "    visited.add(x)\n",
    "    depth[x] = d\n",
    "    if x in graph:\n",
    "        for child  in graph[x]:\n",
    "            if child in visited:\n",
    "                continue\n",
    "            parent[child] = x\n",
    "            dfs(child, d+1)\n",
    "\n",
    "dfs('a', 0)\n",
    "\n",
    "def lca(a, b):\n",
    "    while depth[a] != depth[b]:\n",
    "        if depth[a] > depth[b]:\n",
    "            a = parent[a]\n",
    "        else:\n",
    "            b = parent[b]\n",
    "    while a != b:\n",
    "        a = parent[a]\n",
    "        b = parent[b]\n",
    "    return a"
   ]
  },
  {
   "cell_type": "code",
   "execution_count": 6,
   "metadata": {},
   "outputs": [
    {
     "data": {
      "text/plain": [
       "{'a': 0,\n",
       " 'b': 1,\n",
       " 'd': 2,\n",
       " 'h': 3,\n",
       " 'i': 3,\n",
       " 'e': 2,\n",
       " 'j': 3,\n",
       " 'k': 3,\n",
       " 'c': 1,\n",
       " 'f': 2,\n",
       " 'g': 2}"
      ]
     },
     "execution_count": 6,
     "metadata": {},
     "output_type": "execute_result"
    }
   ],
   "source": [
    "depth"
   ]
  },
  {
   "cell_type": "code",
   "execution_count": 7,
   "metadata": {},
   "outputs": [
    {
     "data": {
      "text/plain": [
       "{'b': 'a',\n",
       " 'd': 'b',\n",
       " 'h': 'd',\n",
       " 'i': 'd',\n",
       " 'e': 'b',\n",
       " 'j': 'e',\n",
       " 'k': 'e',\n",
       " 'c': 'a',\n",
       " 'f': 'c',\n",
       " 'g': 'c'}"
      ]
     },
     "execution_count": 7,
     "metadata": {},
     "output_type": "execute_result"
    }
   ],
   "source": [
    "parent"
   ]
  },
  {
   "cell_type": "code",
   "execution_count": 8,
   "metadata": {},
   "outputs": [
    {
     "data": {
      "text/plain": [
       "{'a', 'b', 'c', 'd', 'e', 'f', 'g', 'h', 'i', 'j', 'k'}"
      ]
     },
     "execution_count": 8,
     "metadata": {},
     "output_type": "execute_result"
    }
   ],
   "source": [
    "visited"
   ]
  },
  {
   "cell_type": "code",
   "execution_count": 9,
   "metadata": {},
   "outputs": [
    {
     "data": {
      "text/plain": [
       "{'a': ['b', 'c'],\n",
       " 'b': ['d', 'e'],\n",
       " 'c': ['f', 'g'],\n",
       " 'd': ['h', 'i'],\n",
       " 'e': ['j', 'k']}"
      ]
     },
     "execution_count": 9,
     "metadata": {},
     "output_type": "execute_result"
    }
   ],
   "source": [
    "graph"
   ]
  },
  {
   "cell_type": "code",
   "execution_count": 10,
   "metadata": {},
   "outputs": [
    {
     "data": {
      "text/plain": [
       "'a'"
      ]
     },
     "execution_count": 10,
     "metadata": {},
     "output_type": "execute_result"
    }
   ],
   "source": [
    "lca('h','g')"
   ]
  },
  {
   "cell_type": "code",
   "execution_count": 11,
   "metadata": {},
   "outputs": [
    {
     "data": {
      "text/plain": [
       "'b'"
      ]
     },
     "execution_count": 11,
     "metadata": {},
     "output_type": "execute_result"
    }
   ],
   "source": [
    "lca('h','k')"
   ]
  },
  {
   "cell_type": "code",
   "execution_count": null,
   "metadata": {},
   "outputs": [],
   "source": []
  }
 ],
 "metadata": {
  "kernelspec": {
   "display_name": "Python 3",
   "language": "python",
   "name": "python3"
  },
  "language_info": {
   "codemirror_mode": {
    "name": "ipython",
    "version": 3
   },
   "file_extension": ".py",
   "mimetype": "text/x-python",
   "name": "python",
   "nbconvert_exporter": "python",
   "pygments_lexer": "ipython3",
   "version": "3.12.2"
  }
 },
 "nbformat": 4,
 "nbformat_minor": 2
}
