{
 "cells": [
  {
   "cell_type": "markdown",
   "id": "4be01db6-af4c-4a8c-8d58-cf7b244015ea",
   "metadata": {},
   "source": [
    "# 간단한 알고리즘"
   ]
  },
  {
   "cell_type": "code",
   "execution_count": 3,
   "id": "4c80b7e5-b878-462b-a626-e44c73198198",
   "metadata": {},
   "outputs": [
    {
     "name": "stdout",
     "output_type": "stream",
     "text": [
      "0\n",
      "2\n",
      "3\n",
      "1\n",
      "2\n",
      "4\n"
     ]
    }
   ],
   "source": [
    "# 입력받기 및 초기화\n",
    "INF = int(1e9)  # 10억(무한)\n",
    "\n",
    "n,m = map(int, input().split())\n",
    "start = int(input())\n",
    "\n",
    "graph = [[] for i in range(n+1)]\n",
    "visited = [False] * (n+1)\n",
    "distance = [INF] * (n+1)\n",
    "for _ in range(m):\n",
    "    a,b,c = map(int, input().split())\n",
    "    graph[a].append((b,c))\n",
    "\n",
    "# 방문하지 않은 노드 주 가장 최단거리가 짧은 노드 번호 반환\n",
    "def get_smallest_node():\n",
    "    min_value = INF\n",
    "    index = 0\n",
    "    for i in range(1, n+1):\n",
    "        if distance[i] < min_value and not visited[i]:\n",
    "            min_value = distance[i]\n",
    "            index = i\n",
    "    return index\n",
    "\n",
    "# 다익스트라\n",
    "def dijkstra(start):\n",
    "    distance[start] = 0\n",
    "    visited[start] =0\n",
    "    for i in graph[start]:\n",
    "        distance[i[0]] = i[1]\n",
    "\n",
    "    for i in range(n-1):\n",
    "        now = get_smallest_node()\n",
    "        visited[now] = True\n",
    "        for j in graph[now]:\n",
    "            cost = distance[now] + j[1]\n",
    "            if cost < distance[j[0]]:\n",
    "                distance[j[0]] = cost\n",
    "\n",
    "dijkstra(start)\n",
    "\n",
    "for i in range(1, n+1):\n",
    "    if distance[i] == INF:\n",
    "        print('INF')\n",
    "    else:\n",
    "        print(distance[i])\n"
   ]
  },
  {
   "cell_type": "code",
   "execution_count": 4,
   "id": "323f0812-8890-4100-aeee-086cc7a523d1",
   "metadata": {},
   "outputs": [
    {
     "data": {
      "text/plain": [
       "[[],\n",
       " [(2, 2), (3, 5), (4, 1)],\n",
       " [(3, 3), (4, 2)],\n",
       " [(2, 3), (6, 5)],\n",
       " [(3, 3), (5, 1)],\n",
       " [(3, 1), (6, 2)],\n",
       " []]"
      ]
     },
     "execution_count": 4,
     "metadata": {},
     "output_type": "execute_result"
    }
   ],
   "source": [
    "graph"
   ]
  },
  {
   "cell_type": "markdown",
   "id": "51d6d8ee",
   "metadata": {},
   "source": [
    "# 개선된 알고리즘"
   ]
  },
  {
   "cell_type": "code",
   "execution_count": 18,
   "id": "099f5ab0",
   "metadata": {},
   "outputs": [],
   "source": [
    "graph = {1: [(2, 2), (3, 5), (4, 1)],\n",
    "        2: [(3, 3), (4, 2)],\n",
    "        3: [(2, 3), (6, 5)],\n",
    "        4: [(3, 3), (5, 1)],\n",
    "        5: [(3, 1), (6, 2)]}\n",
    "\n",
    "n = 6\n",
    "m = 11\n",
    "start = 1"
   ]
  },
  {
   "cell_type": "code",
   "execution_count": 19,
   "id": "dc69e68d",
   "metadata": {},
   "outputs": [
    {
     "name": "stdout",
     "output_type": "stream",
     "text": [
      "0\n",
      "2\n",
      "3\n",
      "1\n",
      "2\n",
      "4\n"
     ]
    }
   ],
   "source": [
    "import heapq\n",
    "\n",
    "INF = int(1e9)\n",
    "#graph = {}\n",
    "\n",
    "#n, m = map(int, input().split())\n",
    "#start = int(input())\n",
    "\n",
    "'''\n",
    "for _ in range(m):\n",
    "    a, b, c = map(int, input().split())\n",
    "    if a in graph:\n",
    "        graph[a].append((b,c))\n",
    "    else:\n",
    "        graph[a] = [(b,c)]\n",
    "'''\n",
    "\n",
    "visited = set()\n",
    "distance = [INF] * (n+1)\n",
    "\n",
    "def dijkstra(start):\n",
    "    q = []\n",
    "    heapq.heappush(q, (0,start))\n",
    "    distance[start] = 0\n",
    "    \n",
    "    while q:\n",
    "        d, now = heapq.heappop(q)\n",
    "        if now in visited:\n",
    "            continue\n",
    "        visited.add(now)\n",
    "\n",
    "        if now in graph:\n",
    "            for node, dist in graph[now]:\n",
    "                cost = distance[now] + dist\n",
    "                if cost < distance[node]:\n",
    "                    distance[node] = cost\n",
    "                    heapq.heappush(q, (cost, node))\n",
    "\n",
    "dijkstra(start)\n",
    "\n",
    "for i in range(1, n+1):\n",
    "    if distance[i] == INF:\n",
    "        print('INF')\n",
    "    else:\n",
    "        print(distance[i])"
   ]
  },
  {
   "cell_type": "code",
   "execution_count": 13,
   "id": "d59bdbd7",
   "metadata": {},
   "outputs": [
    {
     "name": "stdout",
     "output_type": "stream",
     "text": [
      "2 4\n"
     ]
    }
   ],
   "source": [
    "# 문제1 전보\n",
    "\n",
    "import heapq\n",
    "\n",
    "INF = int(1e9)\n",
    "n,m,start = map(int, input().split())\n",
    "\n",
    "distance = [INF] * (n+1)\n",
    "visited = set()\n",
    "graph = dict()\n",
    "\n",
    "for _ in range(m):\n",
    "    a,b,c = map(int, input().split())\n",
    "    if a in graph:\n",
    "        graph[a].append((c,b))\n",
    "    else:\n",
    "        graph[a] = [(c,b)]\n",
    "\n",
    "def dijkstra(start):\n",
    "    q = []\n",
    "    heapq.heappush(q, (0, start))\n",
    "    distance[start] = 0\n",
    "\n",
    "    while q:\n",
    "        t, now = heapq.heappop(q)\n",
    "        if now in visited:\n",
    "            continue\n",
    "        visited.add(now)\n",
    "\n",
    "        if now in graph:\n",
    "            for time1, city in graph[now]:\n",
    "                cost = distance[now] + time1\n",
    "                if cost < distance[city]:\n",
    "                    distance[city] = cost\n",
    "                    heapq.heappush(q, (cost, city))\n",
    "\n",
    "dijkstra(start)\n",
    "\n",
    "city_cnt = 0\n",
    "time_max = 0\n",
    "\n",
    "for time2 in distance:\n",
    "    if time2 != INF:\n",
    "        city_cnt += 1\n",
    "        time_max = max(time_max, time2)\n",
    "\n",
    "print(city_cnt-1, time_max)\n"
   ]
  },
  {
   "cell_type": "code",
   "execution_count": 14,
   "id": "090e7e3e",
   "metadata": {},
   "outputs": [
    {
     "data": {
      "text/plain": [
       "{1: [(4, 2), (2, 3)]}"
      ]
     },
     "execution_count": 14,
     "metadata": {},
     "output_type": "execute_result"
    }
   ],
   "source": [
    "graph"
   ]
  },
  {
   "cell_type": "code",
   "execution_count": 15,
   "id": "c419bdc5",
   "metadata": {},
   "outputs": [
    {
     "data": {
      "text/plain": [
       "[1000000000, 0, 4, 2]"
      ]
     },
     "execution_count": 15,
     "metadata": {},
     "output_type": "execute_result"
    }
   ],
   "source": [
    "distance"
   ]
  },
  {
   "cell_type": "code",
   "execution_count": null,
   "id": "1d3a6003",
   "metadata": {},
   "outputs": [],
   "source": []
  }
 ],
 "metadata": {
  "kernelspec": {
   "display_name": "Python 3 (ipykernel)",
   "language": "python",
   "name": "python3"
  },
  "language_info": {
   "codemirror_mode": {
    "name": "ipython",
    "version": 3
   },
   "file_extension": ".py",
   "mimetype": "text/x-python",
   "name": "python",
   "nbconvert_exporter": "python",
   "pygments_lexer": "ipython3",
   "version": "3.12.4"
  }
 },
 "nbformat": 4,
 "nbformat_minor": 5
}
