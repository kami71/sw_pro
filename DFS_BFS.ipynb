{
 "cells": [
  {
   "cell_type": "code",
   "execution_count": 2,
   "id": "593bec26-868d-4564-ac08-9d3bc969ecc2",
   "metadata": {},
   "outputs": [],
   "source": [
    "graph = {1:[2,3,8],\n",
    "         2:[1,7],\n",
    "         3:[1,4,5],\n",
    "         4:[3,5],\n",
    "         5:[3,4],\n",
    "         6:[7],\n",
    "         7:[2,6,8],\n",
    "         8:[1,7]}"
   ]
  },
  {
   "cell_type": "markdown",
   "id": "b5d32cc1-360d-4395-9de5-6f9d13da3146",
   "metadata": {},
   "source": [
    "# DFS"
   ]
  },
  {
   "cell_type": "code",
   "execution_count": 14,
   "id": "987b2ba8-c654-49fa-9a13-81d9c0b02a27",
   "metadata": {},
   "outputs": [
    {
     "name": "stdout",
     "output_type": "stream",
     "text": [
      "1\n",
      "8\n",
      "7\n",
      "6\n",
      "2\n",
      "3\n",
      "5\n",
      "4\n"
     ]
    }
   ],
   "source": [
    "from collections import deque\n",
    "\n",
    "stack = deque()\n",
    "visited = set()\n",
    "\n",
    "def dfs(graph, start):\n",
    "    stack.append(start)\n",
    "    while stack:\n",
    "        node = stack.pop()\n",
    "        if node not in visited:\n",
    "            visited.add(node)\n",
    "            stack.extend(graph[node])\n",
    "            print(node)\n",
    "\n",
    "dfs(graph, 1)"
   ]
  },
  {
   "cell_type": "code",
   "execution_count": 15,
   "id": "20cb70d8-4a62-43b2-a915-746b89fc920e",
   "metadata": {},
   "outputs": [
    {
     "name": "stdout",
     "output_type": "stream",
     "text": [
      "1\n",
      "2\n",
      "7\n",
      "6\n",
      "8\n",
      "3\n",
      "4\n",
      "5\n"
     ]
    }
   ],
   "source": [
    "visited = set()\n",
    "\n",
    "def dfs(graph, node):\n",
    "    visited.add(node)\n",
    "    print(node)\n",
    "    for i in graph[node]:\n",
    "        if i not in visited:\n",
    "            dfs(graph, i)\n",
    "\n",
    "dfs(graph, 1)"
   ]
  },
  {
   "cell_type": "markdown",
   "id": "24282534-ddec-4e88-a854-f985cdabe88a",
   "metadata": {},
   "source": [
    "# BFS"
   ]
  },
  {
   "cell_type": "code",
   "execution_count": 17,
   "id": "f0196d3a-f052-49ea-b968-e99dc31e5cf9",
   "metadata": {},
   "outputs": [
    {
     "name": "stdout",
     "output_type": "stream",
     "text": [
      "1\n",
      "2\n",
      "3\n",
      "8\n",
      "7\n",
      "4\n",
      "5\n",
      "6\n"
     ]
    }
   ],
   "source": [
    "from collections import deque\n",
    "\n",
    "queue = deque()\n",
    "visited = set()\n",
    "\n",
    "def bfs(graph, start):\n",
    "    queue.append(start)\n",
    "    while queue:\n",
    "        node = queue.popleft()\n",
    "        if node not in visited:\n",
    "            visited.add(node)\n",
    "            queue.extend(graph[node])\n",
    "            print(node)\n",
    "\n",
    "bfs(graph, 1)"
   ]
  },
  {
   "cell_type": "markdown",
   "id": "af53bdc6-093b-4e7d-a048-b55489e3fa1e",
   "metadata": {},
   "source": [
    "# 문제#1"
   ]
  },
  {
   "cell_type": "code",
   "execution_count": null,
   "id": "8f40692f-07be-47fe-90c5-44aaa8d30071",
   "metadata": {},
   "outputs": [],
   "source": []
  }
 ],
 "metadata": {
  "kernelspec": {
   "display_name": "Python 3 (ipykernel)",
   "language": "python",
   "name": "python3"
  },
  "language_info": {
   "codemirror_mode": {
    "name": "ipython",
    "version": 3
   },
   "file_extension": ".py",
   "mimetype": "text/x-python",
   "name": "python",
   "nbconvert_exporter": "python",
   "pygments_lexer": "ipython3",
   "version": "3.11.7"
  }
 },
 "nbformat": 4,
 "nbformat_minor": 5
}
